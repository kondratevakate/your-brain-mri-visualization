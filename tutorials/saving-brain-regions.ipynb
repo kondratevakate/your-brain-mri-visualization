{
 "cells": [
  {
   "cell_type": "code",
   "execution_count": 1,
   "metadata": {},
   "outputs": [],
   "source": [
    "import dicom2nifti\n",
    "import os\n",
    "import copy\n",
    "import numpy as np\n",
    "import pandas as pd\n",
    "import pydicom\n",
    "import nibabel as nib\n",
    "\n",
    "from scipy import ndimage as nd\n",
    "from tqdm import tqdm\n",
    "\n",
    "import matplotlib.pyplot as plt\n",
    "\n",
    "import warnings\n",
    "warnings.filterwarnings(\"ignore\", category=FutureWarning)"
   ]
  },
  {
   "cell_type": "markdown",
   "metadata": {},
   "source": [
    "## Following the tutorial https://github.com/miykael/3dprintyourbrain\n",
    "\n"
   ]
  },
  {
   "cell_type": "markdown",
   "metadata": {},
   "source": [
    "### completing the 3D mri stl creation"
   ]
  },
  {
   "cell_type": "code",
   "execution_count": 3,
   "metadata": {},
   "outputs": [],
   "source": [
    "mask = nib.load('../my-brain-models/aparc+aseg.nii')"
   ]
  },
  {
   "cell_type": "code",
   "execution_count": 4,
   "metadata": {},
   "outputs": [
    {
     "data": {
      "text/plain": [
       "(256, 256, 256)"
      ]
     },
     "execution_count": 4,
     "metadata": {},
     "output_type": "execute_result"
    }
   ],
   "source": [
    "mask.shape"
   ]
  },
  {
   "cell_type": "code",
   "execution_count": 5,
   "metadata": {},
   "outputs": [],
   "source": [
    "list_aseg = [2, 3, 24, 31, 41, 42, 63, 72, 77, 51, 52, 13, 12 ,43, 50, 4 ,\\\n",
    "11, 26, 58, 49, 10 ,17, 18 ,53, 54, 44, 5 ,80 ,14, 15, 30, 62]"
   ]
  },
  {
   "cell_type": "code",
   "execution_count": 6,
   "metadata": {},
   "outputs": [],
   "source": [
    "list_unique = np.unique(mask.get_data())"
   ]
  },
  {
   "cell_type": "code",
   "execution_count": 7,
   "metadata": {},
   "outputs": [
    {
     "data": {
      "text/plain": [
       "113"
      ]
     },
     "execution_count": 7,
     "metadata": {},
     "output_type": "execute_result"
    }
   ],
   "source": [
    "len(list_unique)"
   ]
  },
  {
   "cell_type": "code",
   "execution_count": 8,
   "metadata": {},
   "outputs": [
    {
     "data": {
      "text/plain": [
       "array([False,  True,  True,  True,  True, False, False,  True,  True,\n",
       "        True,  True,  True,  True, False,  True,  True,  True,  True,\n",
       "       False,  True,  True,  True,  True,  True, False, False,  True,\n",
       "        True,  True,  True,  True,  True,  True, False,  True,  True,\n",
       "        True, False, False, False, False, False, False, False, False,\n",
       "       False, False, False, False, False, False, False, False, False,\n",
       "       False, False, False, False, False, False, False, False, False,\n",
       "       False, False, False, False, False, False, False, False, False,\n",
       "       False, False, False, False, False, False, False, False, False,\n",
       "       False, False, False, False, False, False, False, False, False,\n",
       "       False, False, False, False, False, False, False, False, False,\n",
       "       False, False, False, False, False, False, False, False, False,\n",
       "       False, False, False, False, False])"
      ]
     },
     "execution_count": 8,
     "metadata": {},
     "output_type": "execute_result"
    }
   ],
   "source": [
    "np.isin(list_unique, np.array(list_aseg))"
   ]
  },
  {
   "cell_type": "code",
   "execution_count": 9,
   "metadata": {},
   "outputs": [
    {
     "data": {
      "text/plain": [
       "<nilearn.plotting.displays.OrthoSlicer at 0x7fab31dc41d0>"
      ]
     },
     "execution_count": 9,
     "metadata": {},
     "output_type": "execute_result"
    },
    {
     "data": {
      "image/png": "[encoded data removed]",
      "text/plain": [
       "<Figure size 475.2x187.2 with 4 Axes>"
      ]
     },
     "metadata": {},
     "output_type": "display_data"
    }
   ],
   "source": [
    "from nilearn import plotting\n",
    "%matplotlib inline\n",
    "plotting.plot_anat('../my-brain-models/aparc+aseg.nii')"
   ]
  },
  {
   "cell_type": "code",
   "execution_count": 208,
   "metadata": {},
   "outputs": [],
   "source": [
    "binarised = nib.load('freesurfer1/SE000001/bin.nii')"
   ]
  },
  {
   "cell_type": "code",
   "execution_count": 209,
   "metadata": {},
   "outputs": [
    {
     "data": {
      "text/plain": [
       "array([0, 1], dtype=int32)"
      ]
     },
     "execution_count": 209,
     "metadata": {},
     "output_type": "execute_result"
    }
   ],
   "source": [
    "np.unique(binarised.get_data())"
   ]
  },
  {
   "cell_type": "code",
   "execution_count": 210,
   "metadata": {},
   "outputs": [
    {
     "data": {
      "text/plain": [
       "<nilearn.plotting.displays.OrthoSlicer at 0x7f30755152e8>"
      ]
     },
     "execution_count": 210,
     "metadata": {},
     "output_type": "execute_result"
    },
    {
     "data": {
      "image/png": "[encoded data removed]",
      "text/plain": [
       "<Figure size 475.2x187.2 with 4 Axes>"
      ]
     },
     "metadata": {},
     "output_type": "display_data"
    }
   ],
   "source": [
    "plotting.plot_anat('freesurfer1/SE000001/bin.nii')"
   ]
  },
  {
   "cell_type": "markdown",
   "metadata": {},
   "source": [
    "#### multiplying masks"
   ]
  },
  {
   "cell_type": "code",
   "execution_count": 33,
   "metadata": {},
   "outputs": [],
   "source": [
    "aseg = mask.get_data() * binarised.get_data()"
   ]
  },
  {
   "cell_type": "code",
   "execution_count": 54,
   "metadata": {},
   "outputs": [],
   "source": [
    "img = nib.Nifti1Image(aseg, mask.affine)\n",
    "nib.save(img, 'subcortical_tmp.nii.gz')"
   ]
  },
  {
   "cell_type": "code",
   "execution_count": 55,
   "metadata": {},
   "outputs": [
    {
     "data": {
      "text/plain": [
       "<nilearn.plotting.displays.OrthoSlicer at 0x7f3075b277b8>"
      ]
     },
     "execution_count": 55,
     "metadata": {},
     "output_type": "execute_result"
    },
    {
     "data": {
      "image/png": "[encoded data removed]",
      "text/plain": [
       "<Figure size 475.2x187.2 with 4 Axes>"
      ]
     },
     "metadata": {},
     "output_type": "display_data"
    }
   ],
   "source": [
    "plotting.plot_anat('subcortical_tmp.nii.gz')"
   ]
  },
  {
   "cell_type": "code",
   "execution_count": 56,
   "metadata": {},
   "outputs": [
    {
     "data": {
      "text/plain": [
       "array([  0,   7,   8,  16,  28,  46,  47,  60,  85, 251, 252, 253, 254,\n",
       "       255], dtype=int32)"
      ]
     },
     "execution_count": 56,
     "metadata": {},
     "output_type": "execute_result"
    }
   ],
   "source": [
    "np.unique(aseg)"
   ]
  },
  {
   "cell_type": "code",
   "execution_count": 49,
   "metadata": {},
   "outputs": [],
   "source": [
    "bin_aseg = (aseg > 1).astype(np.int32)"
   ]
  },
  {
   "cell_type": "code",
   "execution_count": 50,
   "metadata": {},
   "outputs": [
    {
     "data": {
      "text/plain": [
       "array([0, 1], dtype=int32)"
      ]
     },
     "execution_count": 50,
     "metadata": {},
     "output_type": "execute_result"
    }
   ],
   "source": [
    "np.unique(bin_aseg)"
   ]
  },
  {
   "cell_type": "code",
   "execution_count": 51,
   "metadata": {},
   "outputs": [],
   "source": [
    "bin_img = nib.Nifti1Image(bin_aseg, mask.affine, mask.header)\n",
    "nib.save(bin_img, 'subcortical_bin.nii')"
   ]
  },
  {
   "cell_type": "code",
   "execution_count": 52,
   "metadata": {},
   "outputs": [
    {
     "data": {
      "text/plain": [
       "<nilearn.plotting.displays.OrthoSlicer at 0x7f3075bc1240>"
      ]
     },
     "execution_count": 52,
     "metadata": {},
     "output_type": "execute_result"
    },
    {
     "data": {
      "image/png": "[encoded data removed]",
      "text/plain": [
       "<Figure size 475.2x187.2 with 4 Axes>"
      ]
     },
     "metadata": {},
     "output_type": "display_data"
    }
   ],
   "source": [
    "plotting.plot_anat('subcortical_bin.nii')"
   ]
  },
  {
   "cell_type": "markdown",
   "metadata": {},
   "source": [
    "#### binarising aseg structures"
   ]
  },
  {
   "cell_type": "code",
   "execution_count": 211,
   "metadata": {},
   "outputs": [],
   "source": [
    "path = 'freesurfer1/SE000001/stats/aseg.stats'"
   ]
  },
  {
   "cell_type": "code",
   "execution_count": 212,
   "metadata": {},
   "outputs": [],
   "source": [
    "ColHeader = next(filter(lambda line: line.startswith('# ColHeaders'), open(path).readlines()))\n",
    "        # Ignore first '#', 'ColHeaders'. Leave column names only.\n",
    "names = ColHeader.split()[2:]\n",
    "data = pd.read_csv(path, names=names, comment='#', delim_whitespace=True, dtype=str)"
   ]
  },
  {
   "cell_type": "code",
   "execution_count": 213,
   "metadata": {},
   "outputs": [
    {
     "data": {
      "text/html": [
       "<div>\n",
       "<style scoped>\n",
       "    .dataframe tbody tr th:only-of-type {\n",
       "        vertical-align: middle;\n",
       "    }\n",
       "\n",
       "    .dataframe tbody tr th {\n",
       "        vertical-align: top;\n",
       "    }\n",
       "\n",
       "    .dataframe thead th {\n",
       "        text-align: right;\n",
       "    }\n",
       "</style>\n",
       "<table border=\"1\" class=\"dataframe\">\n",
       "  <thead>\n",
       "    <tr style=\"text-align: right;\">\n",
       "      <th></th>\n",
       "      <th>Index</th>\n",
       "      <th>SegId</th>\n",
       "      <th>NVoxels</th>\n",
       "      <th>Volume_mm3</th>\n",
       "      <th>StructName</th>\n",
       "      <th>normMean</th>\n",
       "      <th>normStdDev</th>\n",
       "      <th>normMin</th>\n",
       "      <th>normMax</th>\n",
       "      <th>normRange</th>\n",
       "    </tr>\n",
       "  </thead>\n",
       "  <tbody>\n",
       "    <tr>\n",
       "      <th>0</th>\n",
       "      <td>1</td>\n",
       "      <td>4</td>\n",
       "      <td>5407</td>\n",
       "      <td>5643.1</td>\n",
       "      <td>Left-Lateral-Ventricle</td>\n",
       "      <td>36.3986</td>\n",
       "      <td>12.4246</td>\n",
       "      <td>9.0000</td>\n",
       "      <td>91.0000</td>\n",
       "      <td>82.0000</td>\n",
       "    </tr>\n",
       "    <tr>\n",
       "      <th>1</th>\n",
       "      <td>2</td>\n",
       "      <td>5</td>\n",
       "      <td>234</td>\n",
       "      <td>281.3</td>\n",
       "      <td>Left-Inf-Lat-Vent</td>\n",
       "      <td>46.2521</td>\n",
       "      <td>12.8865</td>\n",
       "      <td>18.0000</td>\n",
       "      <td>79.0000</td>\n",
       "      <td>61.0000</td>\n",
       "    </tr>\n",
       "    <tr>\n",
       "      <th>2</th>\n",
       "      <td>3</td>\n",
       "      <td>7</td>\n",
       "      <td>11884</td>\n",
       "      <td>12487.7</td>\n",
       "      <td>Left-Cerebellum-White-Matter</td>\n",
       "      <td>79.8719</td>\n",
       "      <td>5.5408</td>\n",
       "      <td>29.0000</td>\n",
       "      <td>96.0000</td>\n",
       "      <td>67.0000</td>\n",
       "    </tr>\n",
       "    <tr>\n",
       "      <th>3</th>\n",
       "      <td>4</td>\n",
       "      <td>8</td>\n",
       "      <td>47645</td>\n",
       "      <td>47181.5</td>\n",
       "      <td>Left-Cerebellum-Cortex</td>\n",
       "      <td>62.7354</td>\n",
       "      <td>10.4598</td>\n",
       "      <td>3.0000</td>\n",
       "      <td>104.0000</td>\n",
       "      <td>101.0000</td>\n",
       "    </tr>\n",
       "    <tr>\n",
       "      <th>4</th>\n",
       "      <td>5</td>\n",
       "      <td>10</td>\n",
       "      <td>7417</td>\n",
       "      <td>7281.5</td>\n",
       "      <td>Left-Thalamus-Proper</td>\n",
       "      <td>90.3776</td>\n",
       "      <td>8.6694</td>\n",
       "      <td>36.0000</td>\n",
       "      <td>113.0000</td>\n",
       "      <td>77.0000</td>\n",
       "    </tr>\n",
       "    <tr>\n",
       "      <th>5</th>\n",
       "      <td>6</td>\n",
       "      <td>11</td>\n",
       "      <td>3478</td>\n",
       "      <td>3380.4</td>\n",
       "      <td>Left-Caudate</td>\n",
       "      <td>79.8125</td>\n",
       "      <td>7.3105</td>\n",
       "      <td>51.0000</td>\n",
       "      <td>105.0000</td>\n",
       "      <td>54.0000</td>\n",
       "    </tr>\n",
       "    <tr>\n",
       "      <th>6</th>\n",
       "      <td>7</td>\n",
       "      <td>12</td>\n",
       "      <td>4251</td>\n",
       "      <td>4433.5</td>\n",
       "      <td>Left-Putamen</td>\n",
       "      <td>83.0896</td>\n",
       "      <td>6.7776</td>\n",
       "      <td>42.0000</td>\n",
       "      <td>100.0000</td>\n",
       "      <td>58.0000</td>\n",
       "    </tr>\n",
       "    <tr>\n",
       "      <th>7</th>\n",
       "      <td>8</td>\n",
       "      <td>13</td>\n",
       "      <td>1631</td>\n",
       "      <td>1486.3</td>\n",
       "      <td>Left-Pallidum</td>\n",
       "      <td>93.1557</td>\n",
       "      <td>5.7185</td>\n",
       "      <td>71.0000</td>\n",
       "      <td>106.0000</td>\n",
       "      <td>35.0000</td>\n",
       "    </tr>\n",
       "    <tr>\n",
       "      <th>8</th>\n",
       "      <td>9</td>\n",
       "      <td>14</td>\n",
       "      <td>972</td>\n",
       "      <td>954.2</td>\n",
       "      <td>3rd-Ventricle</td>\n",
       "      <td>43.6276</td>\n",
       "      <td>15.4205</td>\n",
       "      <td>16.0000</td>\n",
       "      <td>92.0000</td>\n",
       "      <td>76.0000</td>\n",
       "    </tr>\n",
       "    <tr>\n",
       "      <th>9</th>\n",
       "      <td>10</td>\n",
       "      <td>15</td>\n",
       "      <td>1654</td>\n",
       "      <td>1741.4</td>\n",
       "      <td>4th-Ventricle</td>\n",
       "      <td>32.3700</td>\n",
       "      <td>10.6249</td>\n",
       "      <td>17.0000</td>\n",
       "      <td>70.0000</td>\n",
       "      <td>53.0000</td>\n",
       "    </tr>\n",
       "    <tr>\n",
       "      <th>10</th>\n",
       "      <td>11</td>\n",
       "      <td>16</td>\n",
       "      <td>15548</td>\n",
       "      <td>15297.0</td>\n",
       "      <td>Brain-Stem</td>\n",
       "      <td>82.9469</td>\n",
       "      <td>10.0256</td>\n",
       "      <td>22.0000</td>\n",
       "      <td>116.0000</td>\n",
       "      <td>94.0000</td>\n",
       "    </tr>\n",
       "    <tr>\n",
       "      <th>11</th>\n",
       "      <td>12</td>\n",
       "      <td>17</td>\n",
       "      <td>3764</td>\n",
       "      <td>3662.6</td>\n",
       "      <td>Left-Hippocampus</td>\n",
       "      <td>71.3685</td>\n",
       "      <td>7.2061</td>\n",
       "      <td>37.0000</td>\n",
       "      <td>101.0000</td>\n",
       "      <td>64.0000</td>\n",
       "    </tr>\n",
       "    <tr>\n",
       "      <th>12</th>\n",
       "      <td>13</td>\n",
       "      <td>18</td>\n",
       "      <td>1547</td>\n",
       "      <td>1534.5</td>\n",
       "      <td>Left-Amygdala</td>\n",
       "      <td>74.5061</td>\n",
       "      <td>6.1378</td>\n",
       "      <td>42.0000</td>\n",
       "      <td>91.0000</td>\n",
       "      <td>49.0000</td>\n",
       "    </tr>\n",
       "    <tr>\n",
       "      <th>13</th>\n",
       "      <td>14</td>\n",
       "      <td>24</td>\n",
       "      <td>1071</td>\n",
       "      <td>1033.7</td>\n",
       "      <td>CSF</td>\n",
       "      <td>54.6620</td>\n",
       "      <td>12.4988</td>\n",
       "      <td>22.0000</td>\n",
       "      <td>91.0000</td>\n",
       "      <td>69.0000</td>\n",
       "    </tr>\n",
       "    <tr>\n",
       "      <th>14</th>\n",
       "      <td>15</td>\n",
       "      <td>26</td>\n",
       "      <td>465</td>\n",
       "      <td>439.5</td>\n",
       "      <td>Left-Accumbens-area</td>\n",
       "      <td>73.4882</td>\n",
       "      <td>4.6415</td>\n",
       "      <td>54.0000</td>\n",
       "      <td>93.0000</td>\n",
       "      <td>39.0000</td>\n",
       "    </tr>\n",
       "    <tr>\n",
       "      <th>15</th>\n",
       "      <td>16</td>\n",
       "      <td>28</td>\n",
       "      <td>4332</td>\n",
       "      <td>4228.5</td>\n",
       "      <td>Left-VentralDC</td>\n",
       "      <td>92.2512</td>\n",
       "      <td>9.7268</td>\n",
       "      <td>42.0000</td>\n",
       "      <td>123.0000</td>\n",
       "      <td>81.0000</td>\n",
       "    </tr>\n",
       "    <tr>\n",
       "      <th>16</th>\n",
       "      <td>17</td>\n",
       "      <td>30</td>\n",
       "      <td>14</td>\n",
       "      <td>26.5</td>\n",
       "      <td>Left-vessel</td>\n",
       "      <td>59.5000</td>\n",
       "      <td>9.0192</td>\n",
       "      <td>43.0000</td>\n",
       "      <td>74.0000</td>\n",
       "      <td>31.0000</td>\n",
       "    </tr>\n",
       "    <tr>\n",
       "      <th>17</th>\n",
       "      <td>18</td>\n",
       "      <td>31</td>\n",
       "      <td>384</td>\n",
       "      <td>363.9</td>\n",
       "      <td>Left-choroid-plexus</td>\n",
       "      <td>56.4531</td>\n",
       "      <td>11.7983</td>\n",
       "      <td>14.0000</td>\n",
       "      <td>82.0000</td>\n",
       "      <td>68.0000</td>\n",
       "    </tr>\n",
       "    <tr>\n",
       "      <th>18</th>\n",
       "      <td>19</td>\n",
       "      <td>43</td>\n",
       "      <td>4679</td>\n",
       "      <td>4853.9</td>\n",
       "      <td>Right-Lateral-Ventricle</td>\n",
       "      <td>38.3962</td>\n",
       "      <td>13.4636</td>\n",
       "      <td>16.0000</td>\n",
       "      <td>96.0000</td>\n",
       "      <td>80.0000</td>\n",
       "    </tr>\n",
       "    <tr>\n",
       "      <th>19</th>\n",
       "      <td>20</td>\n",
       "      <td>44</td>\n",
       "      <td>435</td>\n",
       "      <td>468.2</td>\n",
       "      <td>Right-Inf-Lat-Vent</td>\n",
       "      <td>41.9954</td>\n",
       "      <td>12.4282</td>\n",
       "      <td>14.0000</td>\n",
       "      <td>86.0000</td>\n",
       "      <td>72.0000</td>\n",
       "    </tr>\n",
       "    <tr>\n",
       "      <th>20</th>\n",
       "      <td>21</td>\n",
       "      <td>46</td>\n",
       "      <td>15202</td>\n",
       "      <td>15210.1</td>\n",
       "      <td>Right-Cerebellum-White-Matter</td>\n",
       "      <td>78.7557</td>\n",
       "      <td>7.0000</td>\n",
       "      <td>12.0000</td>\n",
       "      <td>101.0000</td>\n",
       "      <td>89.0000</td>\n",
       "    </tr>\n",
       "    <tr>\n",
       "      <th>21</th>\n",
       "      <td>22</td>\n",
       "      <td>47</td>\n",
       "      <td>47030</td>\n",
       "      <td>47088.3</td>\n",
       "      <td>Right-Cerebellum-Cortex</td>\n",
       "      <td>65.2162</td>\n",
       "      <td>9.4772</td>\n",
       "      <td>9.0000</td>\n",
       "      <td>97.0000</td>\n",
       "      <td>88.0000</td>\n",
       "    </tr>\n",
       "    <tr>\n",
       "      <th>22</th>\n",
       "      <td>23</td>\n",
       "      <td>49</td>\n",
       "      <td>6369</td>\n",
       "      <td>6075.8</td>\n",
       "      <td>Right-Thalamus-Proper</td>\n",
       "      <td>88.2632</td>\n",
       "      <td>9.1231</td>\n",
       "      <td>26.0000</td>\n",
       "      <td>110.0000</td>\n",
       "      <td>84.0000</td>\n",
       "    </tr>\n",
       "    <tr>\n",
       "      <th>23</th>\n",
       "      <td>24</td>\n",
       "      <td>50</td>\n",
       "      <td>3390</td>\n",
       "      <td>3398.9</td>\n",
       "      <td>Right-Caudate</td>\n",
       "      <td>77.7569</td>\n",
       "      <td>6.7847</td>\n",
       "      <td>45.0000</td>\n",
       "      <td>98.0000</td>\n",
       "      <td>53.0000</td>\n",
       "    </tr>\n",
       "    <tr>\n",
       "      <th>24</th>\n",
       "      <td>25</td>\n",
       "      <td>51</td>\n",
       "      <td>4690</td>\n",
       "      <td>4773.8</td>\n",
       "      <td>Right-Putamen</td>\n",
       "      <td>85.5680</td>\n",
       "      <td>5.9476</td>\n",
       "      <td>54.0000</td>\n",
       "      <td>104.0000</td>\n",
       "      <td>50.0000</td>\n",
       "    </tr>\n",
       "    <tr>\n",
       "      <th>25</th>\n",
       "      <td>26</td>\n",
       "      <td>52</td>\n",
       "      <td>1577</td>\n",
       "      <td>1498.8</td>\n",
       "      <td>Right-Pallidum</td>\n",
       "      <td>98.2061</td>\n",
       "      <td>4.7472</td>\n",
       "      <td>77.0000</td>\n",
       "      <td>111.0000</td>\n",
       "      <td>34.0000</td>\n",
       "    </tr>\n",
       "    <tr>\n",
       "      <th>26</th>\n",
       "      <td>27</td>\n",
       "      <td>53</td>\n",
       "      <td>3714</td>\n",
       "      <td>3637.7</td>\n",
       "      <td>Right-Hippocampus</td>\n",
       "      <td>74.3920</td>\n",
       "      <td>7.3183</td>\n",
       "      <td>39.0000</td>\n",
       "      <td>98.0000</td>\n",
       "      <td>59.0000</td>\n",
       "    </tr>\n",
       "    <tr>\n",
       "      <th>27</th>\n",
       "      <td>28</td>\n",
       "      <td>54</td>\n",
       "      <td>1652</td>\n",
       "      <td>1679.8</td>\n",
       "      <td>Right-Amygdala</td>\n",
       "      <td>76.2651</td>\n",
       "      <td>6.2467</td>\n",
       "      <td>41.0000</td>\n",
       "      <td>93.0000</td>\n",
       "      <td>52.0000</td>\n",
       "    </tr>\n",
       "    <tr>\n",
       "      <th>28</th>\n",
       "      <td>29</td>\n",
       "      <td>58</td>\n",
       "      <td>470</td>\n",
       "      <td>452.9</td>\n",
       "      <td>Right-Accumbens-area</td>\n",
       "      <td>75.2787</td>\n",
       "      <td>5.1759</td>\n",
       "      <td>50.0000</td>\n",
       "      <td>94.0000</td>\n",
       "      <td>44.0000</td>\n",
       "    </tr>\n",
       "    <tr>\n",
       "      <th>29</th>\n",
       "      <td>30</td>\n",
       "      <td>60</td>\n",
       "      <td>4357</td>\n",
       "      <td>4194.5</td>\n",
       "      <td>Right-VentralDC</td>\n",
       "      <td>92.4783</td>\n",
       "      <td>10.2759</td>\n",
       "      <td>32.0000</td>\n",
       "      <td>115.0000</td>\n",
       "      <td>83.0000</td>\n",
       "    </tr>\n",
       "    <tr>\n",
       "      <th>30</th>\n",
       "      <td>31</td>\n",
       "      <td>62</td>\n",
       "      <td>6</td>\n",
       "      <td>13.3</td>\n",
       "      <td>Right-vessel</td>\n",
       "      <td>60.1667</td>\n",
       "      <td>2.3166</td>\n",
       "      <td>57.0000</td>\n",
       "      <td>63.0000</td>\n",
       "      <td>6.0000</td>\n",
       "    </tr>\n",
       "    <tr>\n",
       "      <th>31</th>\n",
       "      <td>32</td>\n",
       "      <td>63</td>\n",
       "      <td>341</td>\n",
       "      <td>315.2</td>\n",
       "      <td>Right-choroid-plexus</td>\n",
       "      <td>57.3167</td>\n",
       "      <td>10.5752</td>\n",
       "      <td>28.0000</td>\n",
       "      <td>81.0000</td>\n",
       "      <td>53.0000</td>\n",
       "    </tr>\n",
       "    <tr>\n",
       "      <th>32</th>\n",
       "      <td>33</td>\n",
       "      <td>72</td>\n",
       "      <td>0</td>\n",
       "      <td>0.0</td>\n",
       "      <td>5th-Ventricle</td>\n",
       "      <td>0.0000</td>\n",
       "      <td>0.0000</td>\n",
       "      <td>0.0000</td>\n",
       "      <td>0.0000</td>\n",
       "      <td>0.0000</td>\n",
       "    </tr>\n",
       "    <tr>\n",
       "      <th>33</th>\n",
       "      <td>34</td>\n",
       "      <td>77</td>\n",
       "      <td>501</td>\n",
       "      <td>449.4</td>\n",
       "      <td>WM-hypointensities</td>\n",
       "      <td>72.5369</td>\n",
       "      <td>10.7207</td>\n",
       "      <td>18.0000</td>\n",
       "      <td>108.0000</td>\n",
       "      <td>90.0000</td>\n",
       "    </tr>\n",
       "    <tr>\n",
       "      <th>34</th>\n",
       "      <td>35</td>\n",
       "      <td>78</td>\n",
       "      <td>0</td>\n",
       "      <td>0.0</td>\n",
       "      <td>Left-WM-hypointensities</td>\n",
       "      <td>0.0000</td>\n",
       "      <td>0.0000</td>\n",
       "      <td>0.0000</td>\n",
       "      <td>0.0000</td>\n",
       "      <td>0.0000</td>\n",
       "    </tr>\n",
       "    <tr>\n",
       "      <th>35</th>\n",
       "      <td>36</td>\n",
       "      <td>79</td>\n",
       "      <td>0</td>\n",
       "      <td>0.0</td>\n",
       "      <td>Right-WM-hypointensities</td>\n",
       "      <td>0.0000</td>\n",
       "      <td>0.0000</td>\n",
       "      <td>0.0000</td>\n",
       "      <td>0.0000</td>\n",
       "      <td>0.0000</td>\n",
       "    </tr>\n",
       "    <tr>\n",
       "      <th>36</th>\n",
       "      <td>37</td>\n",
       "      <td>80</td>\n",
       "      <td>0</td>\n",
       "      <td>0.0</td>\n",
       "      <td>non-WM-hypointensities</td>\n",
       "      <td>0.0000</td>\n",
       "      <td>0.0000</td>\n",
       "      <td>0.0000</td>\n",
       "      <td>0.0000</td>\n",
       "      <td>0.0000</td>\n",
       "    </tr>\n",
       "    <tr>\n",
       "      <th>37</th>\n",
       "      <td>38</td>\n",
       "      <td>81</td>\n",
       "      <td>0</td>\n",
       "      <td>0.0</td>\n",
       "      <td>Left-non-WM-hypointensities</td>\n",
       "      <td>0.0000</td>\n",
       "      <td>0.0000</td>\n",
       "      <td>0.0000</td>\n",
       "      <td>0.0000</td>\n",
       "      <td>0.0000</td>\n",
       "    </tr>\n",
       "    <tr>\n",
       "      <th>38</th>\n",
       "      <td>39</td>\n",
       "      <td>82</td>\n",
       "      <td>0</td>\n",
       "      <td>0.0</td>\n",
       "      <td>Right-non-WM-hypointensities</td>\n",
       "      <td>0.0000</td>\n",
       "      <td>0.0000</td>\n",
       "      <td>0.0000</td>\n",
       "      <td>0.0000</td>\n",
       "      <td>0.0000</td>\n",
       "    </tr>\n",
       "    <tr>\n",
       "      <th>39</th>\n",
       "      <td>40</td>\n",
       "      <td>85</td>\n",
       "      <td>137</td>\n",
       "      <td>119.5</td>\n",
       "      <td>Optic-Chiasm</td>\n",
       "      <td>72.2482</td>\n",
       "      <td>20.7640</td>\n",
       "      <td>25.0000</td>\n",
       "      <td>111.0000</td>\n",
       "      <td>86.0000</td>\n",
       "    </tr>\n",
       "    <tr>\n",
       "      <th>40</th>\n",
       "      <td>41</td>\n",
       "      <td>251</td>\n",
       "      <td>1051</td>\n",
       "      <td>986.3</td>\n",
       "      <td>CC_Posterior</td>\n",
       "      <td>97.4976</td>\n",
       "      <td>14.9474</td>\n",
       "      <td>42.0000</td>\n",
       "      <td>114.0000</td>\n",
       "      <td>72.0000</td>\n",
       "    </tr>\n",
       "    <tr>\n",
       "      <th>41</th>\n",
       "      <td>42</td>\n",
       "      <td>252</td>\n",
       "      <td>595</td>\n",
       "      <td>558.4</td>\n",
       "      <td>CC_Mid_Posterior</td>\n",
       "      <td>94.6084</td>\n",
       "      <td>12.2473</td>\n",
       "      <td>37.0000</td>\n",
       "      <td>114.0000</td>\n",
       "      <td>77.0000</td>\n",
       "    </tr>\n",
       "    <tr>\n",
       "      <th>42</th>\n",
       "      <td>43</td>\n",
       "      <td>253</td>\n",
       "      <td>702</td>\n",
       "      <td>665.1</td>\n",
       "      <td>CC_Central</td>\n",
       "      <td>89.6083</td>\n",
       "      <td>12.1217</td>\n",
       "      <td>46.0000</td>\n",
       "      <td>107.0000</td>\n",
       "      <td>61.0000</td>\n",
       "    </tr>\n",
       "    <tr>\n",
       "      <th>43</th>\n",
       "      <td>44</td>\n",
       "      <td>254</td>\n",
       "      <td>483</td>\n",
       "      <td>422.2</td>\n",
       "      <td>CC_Mid_Anterior</td>\n",
       "      <td>91.0973</td>\n",
       "      <td>16.6816</td>\n",
       "      <td>40.0000</td>\n",
       "      <td>114.0000</td>\n",
       "      <td>74.0000</td>\n",
       "    </tr>\n",
       "    <tr>\n",
       "      <th>44</th>\n",
       "      <td>45</td>\n",
       "      <td>255</td>\n",
       "      <td>823</td>\n",
       "      <td>765.2</td>\n",
       "      <td>CC_Anterior</td>\n",
       "      <td>98.4678</td>\n",
       "      <td>14.1898</td>\n",
       "      <td>25.0000</td>\n",
       "      <td>118.0000</td>\n",
       "      <td>93.0000</td>\n",
       "    </tr>\n",
       "  </tbody>\n",
       "</table>\n",
       "</div>"
      ],
      "text/plain": [
       "   Index SegId NVoxels Volume_mm3                     StructName normMean  \\\n",
       "0      1     4    5407     5643.1         Left-Lateral-Ventricle  36.3986   \n",
       "1      2     5     234      281.3              Left-Inf-Lat-Vent  46.2521   \n",
       "2      3     7   11884    12487.7   Left-Cerebellum-White-Matter  79.8719   \n",
       "3      4     8   47645    47181.5         Left-Cerebellum-Cortex  62.7354   \n",
       "4      5    10    7417     7281.5           Left-Thalamus-Proper  90.3776   \n",
       "5      6    11    3478     3380.4                   Left-Caudate  79.8125   \n",
       "6      7    12    4251     4433.5                   Left-Putamen  83.0896   \n",
       "7      8    13    1631     1486.3                  Left-Pallidum  93.1557   \n",
       "8      9    14     972      954.2                  3rd-Ventricle  43.6276   \n",
       "9     10    15    1654     1741.4                  4th-Ventricle  32.3700   \n",
       "10    11    16   15548    15297.0                     Brain-Stem  82.9469   \n",
       "11    12    17    3764     3662.6               Left-Hippocampus  71.3685   \n",
       "12    13    18    1547     1534.5                  Left-Amygdala  74.5061   \n",
       "13    14    24    1071     1033.7                            CSF  54.6620   \n",
       "14    15    26     465      439.5            Left-Accumbens-area  73.4882   \n",
       "15    16    28    4332     4228.5                 Left-VentralDC  92.2512   \n",
       "16    17    30      14       26.5                    Left-vessel  59.5000   \n",
       "17    18    31     384      363.9            Left-choroid-plexus  56.4531   \n",
       "18    19    43    4679     4853.9        Right-Lateral-Ventricle  38.3962   \n",
       "19    20    44     435      468.2             Right-Inf-Lat-Vent  41.9954   \n",
       "20    21    46   15202    15210.1  Right-Cerebellum-White-Matter  78.7557   \n",
       "21    22    47   47030    47088.3        Right-Cerebellum-Cortex  65.2162   \n",
       "22    23    49    6369     6075.8          Right-Thalamus-Proper  88.2632   \n",
       "23    24    50    3390     3398.9                  Right-Caudate  77.7569   \n",
       "24    25    51    4690     4773.8                  Right-Putamen  85.5680   \n",
       "25    26    52    1577     1498.8                 Right-Pallidum  98.2061   \n",
       "26    27    53    3714     3637.7              Right-Hippocampus  74.3920   \n",
       "27    28    54    1652     1679.8                 Right-Amygdala  76.2651   \n",
       "28    29    58     470      452.9           Right-Accumbens-area  75.2787   \n",
       "29    30    60    4357     4194.5                Right-VentralDC  92.4783   \n",
       "30    31    62       6       13.3                   Right-vessel  60.1667   \n",
       "31    32    63     341      315.2           Right-choroid-plexus  57.3167   \n",
       "32    33    72       0        0.0                  5th-Ventricle   0.0000   \n",
       "33    34    77     501      449.4             WM-hypointensities  72.5369   \n",
       "34    35    78       0        0.0        Left-WM-hypointensities   0.0000   \n",
       "35    36    79       0        0.0       Right-WM-hypointensities   0.0000   \n",
       "36    37    80       0        0.0         non-WM-hypointensities   0.0000   \n",
       "37    38    81       0        0.0    Left-non-WM-hypointensities   0.0000   \n",
       "38    39    82       0        0.0   Right-non-WM-hypointensities   0.0000   \n",
       "39    40    85     137      119.5                   Optic-Chiasm  72.2482   \n",
       "40    41   251    1051      986.3                   CC_Posterior  97.4976   \n",
       "41    42   252     595      558.4               CC_Mid_Posterior  94.6084   \n",
       "42    43   253     702      665.1                     CC_Central  89.6083   \n",
       "43    44   254     483      422.2                CC_Mid_Anterior  91.0973   \n",
       "44    45   255     823      765.2                    CC_Anterior  98.4678   \n",
       "\n",
       "   normStdDev  normMin   normMax normRange  \n",
       "0     12.4246   9.0000   91.0000   82.0000  \n",
       "1     12.8865  18.0000   79.0000   61.0000  \n",
       "2      5.5408  29.0000   96.0000   67.0000  \n",
       "3     10.4598   3.0000  104.0000  101.0000  \n",
       "4      8.6694  36.0000  113.0000   77.0000  \n",
       "5      7.3105  51.0000  105.0000   54.0000  \n",
       "6      6.7776  42.0000  100.0000   58.0000  \n",
       "7      5.7185  71.0000  106.0000   35.0000  \n",
       "8     15.4205  16.0000   92.0000   76.0000  \n",
       "9     10.6249  17.0000   70.0000   53.0000  \n",
       "10    10.0256  22.0000  116.0000   94.0000  \n",
       "11     7.2061  37.0000  101.0000   64.0000  \n",
       "12     6.1378  42.0000   91.0000   49.0000  \n",
       "13    12.4988  22.0000   91.0000   69.0000  \n",
       "14     4.6415  54.0000   93.0000   39.0000  \n",
       "15     9.7268  42.0000  123.0000   81.0000  \n",
       "16     9.0192  43.0000   74.0000   31.0000  \n",
       "17    11.7983  14.0000   82.0000   68.0000  \n",
       "18    13.4636  16.0000   96.0000   80.0000  \n",
       "19    12.4282  14.0000   86.0000   72.0000  \n",
       "20     7.0000  12.0000  101.0000   89.0000  \n",
       "21     9.4772   9.0000   97.0000   88.0000  \n",
       "22     9.1231  26.0000  110.0000   84.0000  \n",
       "23     6.7847  45.0000   98.0000   53.0000  \n",
       "24     5.9476  54.0000  104.0000   50.0000  \n",
       "25     4.7472  77.0000  111.0000   34.0000  \n",
       "26     7.3183  39.0000   98.0000   59.0000  \n",
       "27     6.2467  41.0000   93.0000   52.0000  \n",
       "28     5.1759  50.0000   94.0000   44.0000  \n",
       "29    10.2759  32.0000  115.0000   83.0000  \n",
       "30     2.3166  57.0000   63.0000    6.0000  \n",
       "31    10.5752  28.0000   81.0000   53.0000  \n",
       "32     0.0000   0.0000    0.0000    0.0000  \n",
       "33    10.7207  18.0000  108.0000   90.0000  \n",
       "34     0.0000   0.0000    0.0000    0.0000  \n",
       "35     0.0000   0.0000    0.0000    0.0000  \n",
       "36     0.0000   0.0000    0.0000    0.0000  \n",
       "37     0.0000   0.0000    0.0000    0.0000  \n",
       "38     0.0000   0.0000    0.0000    0.0000  \n",
       "39    20.7640  25.0000  111.0000   86.0000  \n",
       "40    14.9474  42.0000  114.0000   72.0000  \n",
       "41    12.2473  37.0000  114.0000   77.0000  \n",
       "42    12.1217  46.0000  107.0000   61.0000  \n",
       "43    16.6816  40.0000  114.0000   74.0000  \n",
       "44    14.1898  25.0000  118.0000   93.0000  "
      ]
     },
     "execution_count": 213,
     "metadata": {},
     "output_type": "execute_result"
    }
   ],
   "source": [
    "data"
   ]
  },
  {
   "cell_type": "code",
   "execution_count": 214,
   "metadata": {},
   "outputs": [],
   "source": [
    "## defining the dict of needed segmantations\n",
    "list_segmentations = {\n",
    "    'ventricles' : ['Left-Lateral-Ventricle', \n",
    "                  'Left-Inf-Lat-Vent', '3rd-Ventricle', '4th-Ventricle', '5rd-Ventricle','Right-Lateral-Ventricle'\\\n",
    "                 'Right-Inf-Lat-Vent'],\n",
    "    'vessels' : ['Left-vessel','Right-vessel'],\n",
    "    'corpus_collosum' :['CC_Posterior', 'CC_Mid_Posterior', 'CC_Mid_Anterior', 'CC_Mid_Anterior', 'CC_Central'],\n",
    "    'optic_chiasm' : ['Optic-Chiasm'],\n",
    "    'caudate' : ['Left-Caudate', 'Right-Caudate'],\n",
    "    'putamen' : ['Left-Putamen', 'Right-Putamen'] ,   \n",
    "    'thalamus' : ['Left-Thalamus-Proper','Right-Thalamus-Proper'],\n",
    "    'brain_stem' : ['Brain-Stem'],  \n",
    "    'amygdala' : ['Left-Amygdala', 'Right-Amygdala'],\n",
    "    'hippocampus' : ['Left-Hippocampus','Right-Hippocampus'],\n",
    "    'cerebellum_wm': ['Left-Cerebellum-White-Matter','Right-Cerebellum-White-Matter'],\n",
    "    'cerebellum_cortex': ['Left-Cerebellum-Cortex','Right-Cerebellum-Cortex']\n",
    "}"
   ]
  },
  {
   "cell_type": "code",
   "execution_count": 215,
   "metadata": {},
   "outputs": [
    {
     "data": {
      "text/plain": [
       "array([  0,   2,   3,   4,   5,   7,   8,  10,  11,  12,  13,  14,  15,\n",
       "        16,  17,  18,  24,  26,  28,  30,  31,  41,  42,  43,  44,  46,\n",
       "        47,  49,  50,  51,  52,  53,  54,  58,  60,  62,  63,  77,  85,\n",
       "       251, 252, 253, 254, 255], dtype=int32)"
      ]
     },
     "execution_count": 215,
     "metadata": {},
     "output_type": "execute_result"
    }
   ],
   "source": [
    "np.unique(mask.get_data())"
   ]
  },
  {
   "cell_type": "code",
   "execution_count": 216,
   "metadata": {},
   "outputs": [
    {
     "ename": "IndexError",
     "evalue": "list index out of range",
     "output_type": "error",
     "traceback": [
      "\u001b[0;31m\u001b[0m",
      "\u001b[0;31mIndexError\u001b[0mTraceback (most recent call last)",
      "\u001b[0;32m<ipython-input-216-7bc236851846>\u001b[0m in \u001b[0;36m<module>\u001b[0;34m\u001b[0m\n\u001b[1;32m      7\u001b[0m \u001b[0;32mfor\u001b[0m \u001b[0mi\u001b[0m \u001b[0;32min\u001b[0m \u001b[0mrange\u001b[0m\u001b[0;34m(\u001b[0m\u001b[0mlen\u001b[0m\u001b[0;34m(\u001b[0m\u001b[0mseg_data\u001b[0m\u001b[0;34m)\u001b[0m\u001b[0;34m)\u001b[0m\u001b[0;34m:\u001b[0m\u001b[0;34m\u001b[0m\u001b[0m\n\u001b[1;32m      8\u001b[0m     \u001b[0;31m# defining SubIds for the targeted regions\u001b[0m\u001b[0;34m\u001b[0m\u001b[0;34m\u001b[0m\u001b[0m\n\u001b[0;32m----> 9\u001b[0;31m     \u001b[0mlist_tmp\u001b[0m \u001b[0;34m=\u001b[0m \u001b[0mdata\u001b[0m\u001b[0;34m[\u001b[0m\u001b[0;34m'SegId'\u001b[0m\u001b[0;34m]\u001b[0m\u001b[0;34m[\u001b[0m\u001b[0mdata\u001b[0m\u001b[0;34m[\u001b[0m\u001b[0;34m'StructName'\u001b[0m\u001b[0;34m]\u001b[0m\u001b[0;34m.\u001b[0m\u001b[0misin\u001b[0m\u001b[0;34m(\u001b[0m\u001b[0mlist_segmentations\u001b[0m\u001b[0;34m[\u001b[0m\u001b[0msegs\u001b[0m\u001b[0;34m[\u001b[0m\u001b[0mi\u001b[0m\u001b[0;34m]\u001b[0m\u001b[0;34m]\u001b[0m\u001b[0;34m)\u001b[0m\u001b[0;34m]\u001b[0m\u001b[0;34m.\u001b[0m\u001b[0mtolist\u001b[0m\u001b[0;34m(\u001b[0m\u001b[0;34m)\u001b[0m\u001b[0;34m\u001b[0m\u001b[0m\n\u001b[0m\u001b[1;32m     10\u001b[0m     \u001b[0;31m# writing the binarised mask of a region\u001b[0m\u001b[0;34m\u001b[0m\u001b[0;34m\u001b[0m\u001b[0m\n\u001b[1;32m     11\u001b[0m     \u001b[0mbin_img\u001b[0m \u001b[0;34m=\u001b[0m \u001b[0mnib\u001b[0m\u001b[0;34m.\u001b[0m\u001b[0mNifti1Image\u001b[0m\u001b[0;34m(\u001b[0m\u001b[0mnp\u001b[0m\u001b[0;34m.\u001b[0m\u001b[0misin\u001b[0m\u001b[0;34m(\u001b[0m\u001b[0mseg_data\u001b[0m\u001b[0;34m,\u001b[0m \u001b[0mnp\u001b[0m\u001b[0;34m.\u001b[0m\u001b[0marray\u001b[0m\u001b[0;34m(\u001b[0m\u001b[0mlist_tmp\u001b[0m\u001b[0;34m,\u001b[0m \u001b[0mint\u001b[0m\u001b[0;34m)\u001b[0m\u001b[0;34m)\u001b[0m\u001b[0;34m*\u001b[0m\u001b[0;36m1\u001b[0m\u001b[0;34m,\u001b[0m \u001b[0mmask\u001b[0m\u001b[0;34m.\u001b[0m\u001b[0maffine\u001b[0m\u001b[0;34m,\u001b[0m \u001b[0mmask\u001b[0m\u001b[0;34m.\u001b[0m\u001b[0mheader\u001b[0m\u001b[0;34m)\u001b[0m\u001b[0;34m\u001b[0m\u001b[0m\n",
      "\u001b[0;31mIndexError\u001b[0m: list index out of range"
     ]
    }
   ],
   "source": [
    "# defining list of files to save\n",
    "segs = list(list_segmentations.keys())\n",
    "# loading aparct+aseg file segmented\n",
    "mask = nib.load('freesurfer1/SE000001/subcortical.nii')\n",
    "seg_data = np.array(mask.get_data())\n",
    "\n",
    "for i in range(len(seg_data)-1):\n",
    "    # defining SubIds for the targeted regions\n",
    "    list_tmp = data['SegId'][data['StructName'].isin(list_segmentations[segs[i]])].tolist()\n",
    "    # writing the binarised mask of a region\n",
    "    bin_img = nib.Nifti1Image(np.isin(seg_data, np.array(list_tmp, int))*1, mask.affine, mask.header)\n",
    "    # saving file according to the dict\n",
    "    nib.save(bin_img, 'subcortical/'+segs[i]+'.nii.gz')"
   ]
  },
  {
   "cell_type": "markdown",
   "metadata": {},
   "source": [
    "#### binarising aparc structures"
   ]
  },
  {
   "cell_type": "code",
   "execution_count": 234,
   "metadata": {},
   "outputs": [
    {
     "data": {
      "text/plain": [
       "<nilearn.plotting.displays.OrthoSlicer at 0x7f3075017f98>"
      ]
     },
     "execution_count": 234,
     "metadata": {},
     "output_type": "execute_result"
    },
    {
     "data": {
      "image/png": "[encoded data removed]",
      "text/plain": [
       "<Figure size 475.2x187.2 with 4 Axes>"
      ]
     },
     "metadata": {},
     "output_type": "display_data"
    }
   ],
   "source": [
    "mask = nib.load('freesurfer1/SE000001/mri/aparc+aseg.nii')\n",
    "plotting.plot_anat('freesurfer1/SE000001/mri/aparc+aseg.nii')"
   ]
  },
  {
   "cell_type": "code",
   "execution_count": 235,
   "metadata": {},
   "outputs": [],
   "source": [
    "list_unique = np.unique(mask.get_data())"
   ]
  },
  {
   "cell_type": "code",
   "execution_count": 236,
   "metadata": {},
   "outputs": [
    {
     "data": {
      "text/plain": [
       "array([   0,    2,    3,    4,    5,    7,    8,   10,   11,   12,   13,\n",
       "         14,   15,   16,   17,   18,   24,   26,   28,   30,   31,   41,\n",
       "         43,   44,   46,   47,   49,   50,   51,   52,   53,   54,   58,\n",
       "         60,   62,   63,   77,   85,  251,  252,  253,  254,  255, 1000,\n",
       "       1001, 1002, 1003, 1005, 1006, 1007, 1008, 1009, 1010, 1011, 1012,\n",
       "       1013, 1014, 1015, 1016, 1017, 1018, 1019, 1020, 1021, 1022, 1023,\n",
       "       1024, 1025, 1026, 1027, 1028, 1029, 1030, 1031, 1032, 1033, 1034,\n",
       "       1035, 2000, 2001, 2002, 2003, 2005, 2006, 2007, 2008, 2009, 2010,\n",
       "       2011, 2012, 2013, 2014, 2015, 2016, 2017, 2018, 2019, 2020, 2021,\n",
       "       2022, 2023, 2024, 2025, 2026, 2027, 2028, 2029, 2030, 2031, 2032,\n",
       "       2033, 2034, 2035], dtype=int32)"
      ]
     },
     "execution_count": 236,
     "metadata": {},
     "output_type": "execute_result"
    }
   ],
   "source": [
    "list_unique"
   ]
  },
  {
   "cell_type": "markdown",
   "metadata": {},
   "source": [
    "#### saving all parcellatons"
   ]
  },
  {
   "cell_type": "code",
   "execution_count": 276,
   "metadata": {},
   "outputs": [],
   "source": [
    "seg_data = np.array(mask.get_data())\n",
    "seg_data[seg_data <1000] = 0"
   ]
  },
  {
   "cell_type": "code",
   "execution_count": 277,
   "metadata": {},
   "outputs": [
    {
     "data": {
      "text/plain": [
       "array([   0, 1000, 1001, 1002, 1003, 1005, 1006, 1007, 1008, 1009, 1010,\n",
       "       1011, 1012, 1013, 1014, 1015, 1016, 1017, 1018, 1019, 1020, 1021,\n",
       "       1022, 1023, 1024, 1025, 1026, 1027, 1028, 1029, 1030, 1031, 1032,\n",
       "       1033, 1034, 1035, 2000, 2001, 2002, 2003, 2005, 2006, 2007, 2008,\n",
       "       2009, 2010, 2011, 2012, 2013, 2014, 2015, 2016, 2017, 2018, 2019,\n",
       "       2020, 2021, 2022, 2023, 2024, 2025, 2026, 2027, 2028, 2029, 2030,\n",
       "       2031, 2032, 2033, 2034, 2035], dtype=int32)"
      ]
     },
     "execution_count": 277,
     "metadata": {},
     "output_type": "execute_result"
    }
   ],
   "source": [
    "np.unique(seg_data)"
   ]
  },
  {
   "cell_type": "code",
   "execution_count": 278,
   "metadata": {},
   "outputs": [],
   "source": [
    "seg_data[seg_data >1000] = 1"
   ]
  },
  {
   "cell_type": "code",
   "execution_count": 279,
   "metadata": {},
   "outputs": [],
   "source": [
    "bin_img = nib.Nifti1Image(seg_data, mask.affine, mask.header)\n",
    "    # saving file according to the dict\n",
    "nib.save(bin_img, 'aparc/cortex.nii.gz')"
   ]
  },
  {
   "cell_type": "markdown",
   "metadata": {},
   "source": [
    "#### saving by region"
   ]
  },
  {
   "cell_type": "code",
   "execution_count": 271,
   "metadata": {},
   "outputs": [],
   "source": [
    "data = pd.read_csv('freesurfer1/SE000001/label/aparc.annot.ctab', delim_whitespace=True, dtype=str)"
   ]
  },
  {
   "cell_type": "code",
   "execution_count": 272,
   "metadata": {},
   "outputs": [
    {
     "data": {
      "text/html": [
       "<div>\n",
       "<style scoped>\n",
       "    .dataframe tbody tr th:only-of-type {\n",
       "        vertical-align: middle;\n",
       "    }\n",
       "\n",
       "    .dataframe tbody tr th {\n",
       "        vertical-align: top;\n",
       "    }\n",
       "\n",
       "    .dataframe thead th {\n",
       "        text-align: right;\n",
       "    }\n",
       "</style>\n",
       "<table border=\"1\" class=\"dataframe\">\n",
       "  <thead>\n",
       "    <tr style=\"text-align: right;\">\n",
       "      <th></th>\n",
       "      <th>0</th>\n",
       "      <th>unknown</th>\n",
       "      <th>25</th>\n",
       "      <th>5</th>\n",
       "      <th>25.1</th>\n",
       "      <th>0.1</th>\n",
       "    </tr>\n",
       "  </thead>\n",
       "  <tbody>\n",
       "    <tr>\n",
       "      <th>0</th>\n",
       "      <td>1</td>\n",
       "      <td>bankssts</td>\n",
       "      <td>25</td>\n",
       "      <td>100</td>\n",
       "      <td>40</td>\n",
       "      <td>0</td>\n",
       "    </tr>\n",
       "    <tr>\n",
       "      <th>1</th>\n",
       "      <td>2</td>\n",
       "      <td>caudalanteriorcingulate</td>\n",
       "      <td>125</td>\n",
       "      <td>100</td>\n",
       "      <td>160</td>\n",
       "      <td>0</td>\n",
       "    </tr>\n",
       "    <tr>\n",
       "      <th>2</th>\n",
       "      <td>3</td>\n",
       "      <td>caudalmiddlefrontal</td>\n",
       "      <td>100</td>\n",
       "      <td>25</td>\n",
       "      <td>0</td>\n",
       "      <td>0</td>\n",
       "    </tr>\n",
       "    <tr>\n",
       "      <th>3</th>\n",
       "      <td>4</td>\n",
       "      <td>corpuscallosum</td>\n",
       "      <td>120</td>\n",
       "      <td>70</td>\n",
       "      <td>50</td>\n",
       "      <td>0</td>\n",
       "    </tr>\n",
       "    <tr>\n",
       "      <th>4</th>\n",
       "      <td>5</td>\n",
       "      <td>cuneus</td>\n",
       "      <td>220</td>\n",
       "      <td>20</td>\n",
       "      <td>100</td>\n",
       "      <td>0</td>\n",
       "    </tr>\n",
       "  </tbody>\n",
       "</table>\n",
       "</div>"
      ],
      "text/plain": [
       "   0                  unknown   25    5 25.1 0.1\n",
       "0  1                 bankssts   25  100   40   0\n",
       "1  2  caudalanteriorcingulate  125  100  160   0\n",
       "2  3      caudalmiddlefrontal  100   25    0   0\n",
       "3  4           corpuscallosum  120   70   50   0\n",
       "4  5                   cuneus  220   20  100   0"
      ]
     },
     "execution_count": 272,
     "metadata": {},
     "output_type": "execute_result"
    }
   ],
   "source": [
    "data.head()"
   ]
  },
  {
   "cell_type": "code",
   "execution_count": 273,
   "metadata": {},
   "outputs": [],
   "source": [
    "list_parcellations = {\n",
    "    'frontal_lobe' : ['superiorfrontal','medialorbitofrontal','caudalmiddlefrontal','lateralorbitofrontal','frontalpole','rostralmiddlefrontal'],\n",
    "    'wernike' : ['superiortemporal','supramarginal'],\n",
    "    'broca': ['parstriangularis','parsopercularis'],\n",
    "    'temporal': ['superiortemporal','middletemporal','inferiortemporal','supramarginal','precentral','postcentral'],\n",
    "    'parietal': ['superiorparietal','inferiorparietal'],\n",
    "    'occipital' : ['lateraloccipital']\n",
    "}"
   ]
  },
  {
   "cell_type": "code",
   "execution_count": 274,
   "metadata": {},
   "outputs": [
    {
     "data": {
      "text/plain": [
       "array([1009, 1015, 1022, 1024, 1030, 1031, 2009, 2015, 2022, 2024, 2030,\n",
       "       2031])"
      ]
     },
     "execution_count": 274,
     "metadata": {},
     "output_type": "execute_result"
    }
   ],
   "source": [
    "# checking the selection\n",
    "parcs = list(list_parcellations.keys())\n",
    "list_tmp = data['0'][data['unknown'].isin(list_parcellations[parcs[0]])].tolist()\n",
    "np.append(np.array(list_tmp, int) + 1000,np.array(list_tmp, int) + 2000)"
   ]
  },
  {
   "cell_type": "code",
   "execution_count": 275,
   "metadata": {},
   "outputs": [],
   "source": [
    "# defining list of files to save\n",
    "parcs = list(list_parcellations.keys())\n",
    "# loading aparct+aseg file segmented\n",
    "mask = nib.load('freesurfer1/SE000001/mri/aparc+aseg.nii')\n",
    "parc_data = np.array(mask.get_data())\n",
    "\n",
    "for i in range(len(list_parcellations)):\n",
    "    # defining SubIds for the targeted regions\n",
    "    list_tmp = data['0'][data['unknown'].isin(list_parcellations[parcs[i]])].tolist()\n",
    "    \n",
    "    # translating SegID according to the documentation\n",
    "    parc_array = np.append(np.array(list_tmp, int) + 1000, np.array(list_tmp, int) + 2000)\n",
    "    \n",
    "    # writing the binarised mask of a region\n",
    "    bin_img = nib.Nifti1Image(np.isin(parc_data, parc_array)*1, mask.affine, mask.header)\n",
    "    \n",
    "    # saving file according to the dict\n",
    "    nib.save(bin_img, 'aparc/'+ parcs[i]+'.nii.gz')"
   ]
  }
 ],
 "metadata": {
  "kernelspec": {
   "display_name": "Python 3",
   "language": "python",
   "name": "python3"
  },
  "language_info": {
   "codemirror_mode": {
    "name": "ipython",
    "version": 3
   },
   "file_extension": ".py",
   "mimetype": "text/x-python",
   "name": "python",
   "nbconvert_exporter": "python",
   "pygments_lexer": "ipython3",
   "version": "3.7.4"
  }
 },
 "nbformat": 4,
 "nbformat_minor": 4
}
